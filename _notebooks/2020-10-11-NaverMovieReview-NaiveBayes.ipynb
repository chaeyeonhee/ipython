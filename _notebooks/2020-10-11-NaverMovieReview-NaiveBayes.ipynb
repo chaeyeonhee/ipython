{
  "nbformat": 4,
  "nbformat_minor": 0,
  "metadata": {
    "colab": {
      "name": "나이브베이즈 - 네이버 영화리뷰.ipynb",
      "provenance": [],
      "authorship_tag": "ABX9TyOE/Bzmrc27tfr3Hh82p7T+"
    },
    "kernelspec": {
      "name": "python3",
      "display_name": "Python 3"
    }
  },
  "cells": [
    {
      "cell_type": "markdown",
      "metadata": {
        "id": "-uZi-z7oBwwZ"
      },
      "source": [
        "# \"nltk를 이용한 Naive Bayes 분석\"\n",
        "> \"네이버 영화 네티즌·관람객 평점 리뷰 데이터\"\n",
        "\n",
        "- toc: false\n",
        "- branch: master\n",
        "- badges: true\n",
        "- comments: true\n",
        "- categories: [NaiveBayes]\n",
        "- hide: false\n",
        "- search_exclude: true"
      ]
    },
    {
      "cell_type": "markdown",
      "metadata": {
        "id": "b9PLzp5y3FjM"
      },
      "source": [
        "## 1. 개요\n",
        "---\n",
        "- **작성일** : 2020-10-11\n",
        "- **작성자** : 채연희\n",
        "- **분석 목적** : `nltk`의 `Naive Bayes` 패키지를 이용해 긍정적 문장, 부정적 문장 분류\n",
        "- **분석 대상** : 네이버 영화 네티즌·관람객 평점 리뷰 데이터\n",
        "\n",
        "<br/>  \n",
        "- **사용 라이브러리**\n",
        "```\n",
        "# 데이터 수집\n",
        "from urllib.request import urlopen\n",
        "from bs4 import BeautifulSoup\n",
        "　\n",
        "# 데이터 처리 및 정제\n",
        "import re\n",
        "import pandas as pd\n",
        "　\n",
        "# 한국어 형태소 분석 / 토큰화 및 나이브베이즈\n",
        "from konlpy.tag import Okt\n",
        "from nltk.tokenize import word_tokenize\n",
        "import nltk\n",
        "　\n",
        "# 혼동행렬\n",
        "from sklearn.metrics import confusion_matrix, classification_report\n",
        "```\n",
        "  \n",
        "<br/>  "
      ]
    },
    {
      "cell_type": "markdown",
      "metadata": {
        "id": "ymL9Ny1l5GJy"
      },
      "source": [
        "## 2. 데이터 수집 및 정제\n",
        "---\n",
        "### 2.1 데이터 수집\n",
        "- `urllib`, `BeautifulSoup`를 이용해 https://movie.naver.com/movie/point/af/list.nhn 에서 2020-10-11 기준으로 1페이지 ~ 500페이지 수집  \n",
        "(데이터 정제 이후 `부정` 데이터가 적어 500 ~ 1000 페이지의 `부정` 데이터만 추가 수집)\n",
        "- 제목, 평점, 리뷰 데이터를 `Data.Frame`으로 정렬\n",
        "\n",
        "<br/>  \n",
        "### 2.2 데이터 정제\n",
        "- 평점은 있으나 리뷰가 없는 데이터 삭제\n",
        "- 평점 `5` 미만은 `부정`, `6` 이상은 `긍정`으로 치환\n",
        "- 평점 `4 ~ 7` 사이의 데이터는 긍·부정이 동시에 나타나는 경우가 많아 문맥에 따라 재분류\n",
        "- 그 외 ① 영화와 관련 없는 리뷰 ② 긍·부정 판단이 모호한 리뷰 ③ 스토리, 소재 등만 나열한 리뷰 ④ 반어법을 사용한 리뷰 등은 삭제\n",
        "\n",
        "<br/>  \n",
        "- `부정` 데이터 추가 수집 이후 순서 랜덤 정렬\n",
        "- 최종 데이터 : [movie_data_set.csv](https://github.com/chaeyeonhee/Naver-movie-review/blob/main/movie_data_set.csv)\n",
        "  \n",
        "<br/>  "
      ]
    },
    {
      "cell_type": "markdown",
      "metadata": {
        "id": "bkYZpv0g72hU"
      },
      "source": [
        "## 3. 데이터 불러오기\n",
        "---"
      ]
    },
    {
      "cell_type": "markdown",
      "metadata": {
        "id": "kKrPoq5tEIYE"
      },
      "source": [
        "### 3.1 데이터 조회"
      ]
    },
    {
      "cell_type": "markdown",
      "metadata": {
        "id": "ZS14_bql8N5y"
      },
      "source": [
        "- `총 4935`건 데이터. `긍정 2932`건, `부정 2003`건"
      ]
    },
    {
      "cell_type": "code",
      "metadata": {
        "id": "2WCCQ3xOSJqd",
        "outputId": "f8f90505-a9a7-4159-885a-f4b9b670546d",
        "colab": {
          "base_uri": "https://localhost:8080/",
          "height": 419
        }
      },
      "source": [
        "import pandas as pd\n",
        "movie_data_set = pd.read_csv(\"movie_data_set.csv\")\n",
        "movie_data_set"
      ],
      "execution_count": null,
      "outputs": [
        {
          "output_type": "execute_result",
          "data": {
            "text/html": [
              "<div>\n",
              "<style scoped>\n",
              "    .dataframe tbody tr th:only-of-type {\n",
              "        vertical-align: middle;\n",
              "    }\n",
              "\n",
              "    .dataframe tbody tr th {\n",
              "        vertical-align: top;\n",
              "    }\n",
              "\n",
              "    .dataframe thead th {\n",
              "        text-align: right;\n",
              "    }\n",
              "</style>\n",
              "<table border=\"1\" class=\"dataframe\">\n",
              "  <thead>\n",
              "    <tr style=\"text-align: right;\">\n",
              "      <th></th>\n",
              "      <th>title</th>\n",
              "      <th>point</th>\n",
              "      <th>review</th>\n",
              "      <th>type</th>\n",
              "    </tr>\n",
              "  </thead>\n",
              "  <tbody>\n",
              "    <tr>\n",
              "      <th>0</th>\n",
              "      <td>만추</td>\n",
              "      <td>10</td>\n",
              "      <td>하..좋다..  역시 지난 영화는 지나고 나이를 먹고 또 봐야 느끼는 감정이 달라지...</td>\n",
              "      <td>긍정</td>\n",
              "    </tr>\n",
              "    <tr>\n",
              "      <th>1</th>\n",
              "      <td>천문: 하늘에 묻는다</td>\n",
              "      <td>10</td>\n",
              "      <td>음...두분에 연기에 가슴이 뛰었습니다.</td>\n",
              "      <td>긍정</td>\n",
              "    </tr>\n",
              "    <tr>\n",
              "      <th>2</th>\n",
              "      <td>나를 차버린 스파이</td>\n",
              "      <td>2</td>\n",
              "      <td>평점이 왜이리 높아개노잼 20분 보다 더는못참고 끕니다</td>\n",
              "      <td>부정</td>\n",
              "    </tr>\n",
              "    <tr>\n",
              "      <th>3</th>\n",
              "      <td>캐리비안의 해적: 죽은 자는 말이 없다</td>\n",
              "      <td>8</td>\n",
              "      <td>집에서 보기 좋은 영화예요~^^</td>\n",
              "      <td>긍정</td>\n",
              "    </tr>\n",
              "    <tr>\n",
              "      <th>4</th>\n",
              "      <td>언힌지드</td>\n",
              "      <td>1</td>\n",
              "      <td>그냥 5만원정도 주면서까지 영화 보라고 해도 시간이 아까울 정도입니다</td>\n",
              "      <td>부정</td>\n",
              "    </tr>\n",
              "    <tr>\n",
              "      <th>...</th>\n",
              "      <td>...</td>\n",
              "      <td>...</td>\n",
              "      <td>...</td>\n",
              "      <td>...</td>\n",
              "    </tr>\n",
              "    <tr>\n",
              "      <th>4930</th>\n",
              "      <td>링컨 차를 타는 변호사</td>\n",
              "      <td>8</td>\n",
              "      <td>미국식 쿨함이 그런 것인가, 다들 참 복잡한 세상 단순하게 사는 것 같아 부럽기도 ...</td>\n",
              "      <td>긍정</td>\n",
              "    </tr>\n",
              "    <tr>\n",
              "      <th>4931</th>\n",
              "      <td>인사이드 잡</td>\n",
              "      <td>1</td>\n",
              "      <td>재미도 없지만 볼 가치도 없는 다큐.</td>\n",
              "      <td>부정</td>\n",
              "    </tr>\n",
              "    <tr>\n",
              "      <th>4932</th>\n",
              "      <td>뮬란</td>\n",
              "      <td>1</td>\n",
              "      <td>뮬란 본연의 매력은 다버리고 무협 판타지로 만들어버림</td>\n",
              "      <td>부정</td>\n",
              "    </tr>\n",
              "    <tr>\n",
              "      <th>4933</th>\n",
              "      <td>패스트 &amp; 퓨리어스 - 도쿄 드리프트</td>\n",
              "      <td>9</td>\n",
              "      <td>드리프트 액션 진짜 볼만함</td>\n",
              "      <td>긍정</td>\n",
              "    </tr>\n",
              "    <tr>\n",
              "      <th>4934</th>\n",
              "      <td>애프터: 그 후</td>\n",
              "      <td>8</td>\n",
              "      <td>확실히 전편보단 스토리가 나아서 보는맛이 있어요 이 영화의 본질은 비주얼이라서 ㅋㅋ...</td>\n",
              "      <td>긍정</td>\n",
              "    </tr>\n",
              "  </tbody>\n",
              "</table>\n",
              "<p>4935 rows × 4 columns</p>\n",
              "</div>"
            ],
            "text/plain": [
              "                      title  ...  type\n",
              "0                        만추  ...    긍정\n",
              "1               천문: 하늘에 묻는다  ...    긍정\n",
              "2                나를 차버린 스파이  ...    부정\n",
              "3     캐리비안의 해적: 죽은 자는 말이 없다  ...    긍정\n",
              "4                      언힌지드  ...    부정\n",
              "...                     ...  ...   ...\n",
              "4930           링컨 차를 타는 변호사  ...    긍정\n",
              "4931                 인사이드 잡  ...    부정\n",
              "4932                     뮬란  ...    부정\n",
              "4933   패스트 & 퓨리어스 - 도쿄 드리프트  ...    긍정\n",
              "4934               애프터: 그 후  ...    긍정\n",
              "\n",
              "[4935 rows x 4 columns]"
            ]
          },
          "metadata": {
            "tags": []
          },
          "execution_count": 78
        }
      ]
    },
    {
      "cell_type": "code",
      "metadata": {
        "id": "Rb2hsbOnYOX0",
        "outputId": "2cf65469-123b-49a5-c584-a84bb025abac",
        "colab": {
          "base_uri": "https://localhost:8080/",
          "height": 419
        }
      },
      "source": [
        "movie_data_set[movie_data_set.type == '긍정']"
      ],
      "execution_count": null,
      "outputs": [
        {
          "output_type": "execute_result",
          "data": {
            "text/html": [
              "<div>\n",
              "<style scoped>\n",
              "    .dataframe tbody tr th:only-of-type {\n",
              "        vertical-align: middle;\n",
              "    }\n",
              "\n",
              "    .dataframe tbody tr th {\n",
              "        vertical-align: top;\n",
              "    }\n",
              "\n",
              "    .dataframe thead th {\n",
              "        text-align: right;\n",
              "    }\n",
              "</style>\n",
              "<table border=\"1\" class=\"dataframe\">\n",
              "  <thead>\n",
              "    <tr style=\"text-align: right;\">\n",
              "      <th></th>\n",
              "      <th>title</th>\n",
              "      <th>point</th>\n",
              "      <th>review</th>\n",
              "      <th>type</th>\n",
              "    </tr>\n",
              "  </thead>\n",
              "  <tbody>\n",
              "    <tr>\n",
              "      <th>0</th>\n",
              "      <td>만추</td>\n",
              "      <td>10</td>\n",
              "      <td>하..좋다..  역시 지난 영화는 지나고 나이를 먹고 또 봐야 느끼는 감정이 달라지...</td>\n",
              "      <td>긍정</td>\n",
              "    </tr>\n",
              "    <tr>\n",
              "      <th>1</th>\n",
              "      <td>천문: 하늘에 묻는다</td>\n",
              "      <td>10</td>\n",
              "      <td>음...두분에 연기에 가슴이 뛰었습니다.</td>\n",
              "      <td>긍정</td>\n",
              "    </tr>\n",
              "    <tr>\n",
              "      <th>3</th>\n",
              "      <td>캐리비안의 해적: 죽은 자는 말이 없다</td>\n",
              "      <td>8</td>\n",
              "      <td>집에서 보기 좋은 영화예요~^^</td>\n",
              "      <td>긍정</td>\n",
              "    </tr>\n",
              "    <tr>\n",
              "      <th>6</th>\n",
              "      <td>국제수사</td>\n",
              "      <td>10</td>\n",
              "      <td>곽도원 김희원! 제가 좋아하는 배우분들이라 믿고 봤는데 잼나용</td>\n",
              "      <td>긍정</td>\n",
              "    </tr>\n",
              "    <tr>\n",
              "      <th>9</th>\n",
              "      <td>담보</td>\n",
              "      <td>10</td>\n",
              "      <td>소이가 너무 귀여워요ㅠㅠ 그리고 많이 울었어요.추천합니다~</td>\n",
              "      <td>긍정</td>\n",
              "    </tr>\n",
              "    <tr>\n",
              "      <th>...</th>\n",
              "      <td>...</td>\n",
              "      <td>...</td>\n",
              "      <td>...</td>\n",
              "      <td>...</td>\n",
              "    </tr>\n",
              "    <tr>\n",
              "      <th>4928</th>\n",
              "      <td>콘 에어</td>\n",
              "      <td>10</td>\n",
              "      <td>요새 어지간한 헐리우드 영화보다 낫네ㅎ</td>\n",
              "      <td>긍정</td>\n",
              "    </tr>\n",
              "    <tr>\n",
              "      <th>4929</th>\n",
              "      <td>담보</td>\n",
              "      <td>10</td>\n",
              "      <td>성동일이라서 뭔가 더 집중할수있었던 영화웃다가 울다가 마지막엔 오열 후회없는 영화 ...</td>\n",
              "      <td>긍정</td>\n",
              "    </tr>\n",
              "    <tr>\n",
              "      <th>4930</th>\n",
              "      <td>링컨 차를 타는 변호사</td>\n",
              "      <td>8</td>\n",
              "      <td>미국식 쿨함이 그런 것인가, 다들 참 복잡한 세상 단순하게 사는 것 같아 부럽기도 ...</td>\n",
              "      <td>긍정</td>\n",
              "    </tr>\n",
              "    <tr>\n",
              "      <th>4933</th>\n",
              "      <td>패스트 &amp; 퓨리어스 - 도쿄 드리프트</td>\n",
              "      <td>9</td>\n",
              "      <td>드리프트 액션 진짜 볼만함</td>\n",
              "      <td>긍정</td>\n",
              "    </tr>\n",
              "    <tr>\n",
              "      <th>4934</th>\n",
              "      <td>애프터: 그 후</td>\n",
              "      <td>8</td>\n",
              "      <td>확실히 전편보단 스토리가 나아서 보는맛이 있어요 이 영화의 본질은 비주얼이라서 ㅋㅋ...</td>\n",
              "      <td>긍정</td>\n",
              "    </tr>\n",
              "  </tbody>\n",
              "</table>\n",
              "<p>2932 rows × 4 columns</p>\n",
              "</div>"
            ],
            "text/plain": [
              "                      title  ...  type\n",
              "0                        만추  ...    긍정\n",
              "1               천문: 하늘에 묻는다  ...    긍정\n",
              "3     캐리비안의 해적: 죽은 자는 말이 없다  ...    긍정\n",
              "6                      국제수사  ...    긍정\n",
              "9                        담보  ...    긍정\n",
              "...                     ...  ...   ...\n",
              "4928                   콘 에어  ...    긍정\n",
              "4929                     담보  ...    긍정\n",
              "4930           링컨 차를 타는 변호사  ...    긍정\n",
              "4933   패스트 & 퓨리어스 - 도쿄 드리프트  ...    긍정\n",
              "4934               애프터: 그 후  ...    긍정\n",
              "\n",
              "[2932 rows x 4 columns]"
            ]
          },
          "metadata": {
            "tags": []
          },
          "execution_count": 79
        }
      ]
    },
    {
      "cell_type": "code",
      "metadata": {
        "id": "0VKjFw99YsKb",
        "outputId": "d6746225-d0d2-473a-d067-c33d4bc2ab1b",
        "colab": {
          "base_uri": "https://localhost:8080/",
          "height": 419
        }
      },
      "source": [
        "movie_data_set[movie_data_set.type == '부정']"
      ],
      "execution_count": null,
      "outputs": [
        {
          "output_type": "execute_result",
          "data": {
            "text/html": [
              "<div>\n",
              "<style scoped>\n",
              "    .dataframe tbody tr th:only-of-type {\n",
              "        vertical-align: middle;\n",
              "    }\n",
              "\n",
              "    .dataframe tbody tr th {\n",
              "        vertical-align: top;\n",
              "    }\n",
              "\n",
              "    .dataframe thead th {\n",
              "        text-align: right;\n",
              "    }\n",
              "</style>\n",
              "<table border=\"1\" class=\"dataframe\">\n",
              "  <thead>\n",
              "    <tr style=\"text-align: right;\">\n",
              "      <th></th>\n",
              "      <th>title</th>\n",
              "      <th>point</th>\n",
              "      <th>review</th>\n",
              "      <th>type</th>\n",
              "    </tr>\n",
              "  </thead>\n",
              "  <tbody>\n",
              "    <tr>\n",
              "      <th>2</th>\n",
              "      <td>나를 차버린 스파이</td>\n",
              "      <td>2</td>\n",
              "      <td>평점이 왜이리 높아개노잼 20분 보다 더는못참고 끕니다</td>\n",
              "      <td>부정</td>\n",
              "    </tr>\n",
              "    <tr>\n",
              "      <th>4</th>\n",
              "      <td>언힌지드</td>\n",
              "      <td>1</td>\n",
              "      <td>그냥 5만원정도 주면서까지 영화 보라고 해도 시간이 아까울 정도입니다</td>\n",
              "      <td>부정</td>\n",
              "    </tr>\n",
              "    <tr>\n",
              "      <th>5</th>\n",
              "      <td>죽지않는 인간들의 밤</td>\n",
              "      <td>1</td>\n",
              "      <td>알바의 존재를 이제야 알았네요...도망가세여</td>\n",
              "      <td>부정</td>\n",
              "    </tr>\n",
              "    <tr>\n",
              "      <th>7</th>\n",
              "      <td>안시성</td>\n",
              "      <td>1</td>\n",
              "      <td>걍 다 재미없고 끔찍한 장면만 담아낸듯한 영화. 끔찍하게 할거면 그 수준에 맞는 재...</td>\n",
              "      <td>부정</td>\n",
              "    </tr>\n",
              "    <tr>\n",
              "      <th>8</th>\n",
              "      <td>그것만이 내 세상</td>\n",
              "      <td>1</td>\n",
              "      <td>제발 좀 영화 장르좀 확실해라!!! 코미디를 보러왔는데 정작 본건 억지감동물이냐!!...</td>\n",
              "      <td>부정</td>\n",
              "    </tr>\n",
              "    <tr>\n",
              "      <th>...</th>\n",
              "      <td>...</td>\n",
              "      <td>...</td>\n",
              "      <td>...</td>\n",
              "      <td>...</td>\n",
              "    </tr>\n",
              "    <tr>\n",
              "      <th>4921</th>\n",
              "      <td>나우 유 씨 미 2</td>\n",
              "      <td>2</td>\n",
              "      <td>최악. 중국인 감독이라 그런지 1편에 비해 너무나도 과한 액션과 지루한 스토리.마술...</td>\n",
              "      <td>부정</td>\n",
              "    </tr>\n",
              "    <tr>\n",
              "      <th>4923</th>\n",
              "      <td>죽지않는 인간들의 밤</td>\n",
              "      <td>1</td>\n",
              "      <td>이거 블라인드 시사회때 보고 진짜 주위 사람들한테 보지 말라고 홍보하고 싶었음......</td>\n",
              "      <td>부정</td>\n",
              "    </tr>\n",
              "    <tr>\n",
              "      <th>4925</th>\n",
              "      <td>담보</td>\n",
              "      <td>2</td>\n",
              "      <td>너무나 예측 가능한 스토리 전개와 억지스러운 요소들이 빛났던 영화. 코로나때문에 작...</td>\n",
              "      <td>부정</td>\n",
              "    </tr>\n",
              "    <tr>\n",
              "      <th>4931</th>\n",
              "      <td>인사이드 잡</td>\n",
              "      <td>1</td>\n",
              "      <td>재미도 없지만 볼 가치도 없는 다큐.</td>\n",
              "      <td>부정</td>\n",
              "    </tr>\n",
              "    <tr>\n",
              "      <th>4932</th>\n",
              "      <td>뮬란</td>\n",
              "      <td>1</td>\n",
              "      <td>뮬란 본연의 매력은 다버리고 무협 판타지로 만들어버림</td>\n",
              "      <td>부정</td>\n",
              "    </tr>\n",
              "  </tbody>\n",
              "</table>\n",
              "<p>2003 rows × 4 columns</p>\n",
              "</div>"
            ],
            "text/plain": [
              "            title  ...  type\n",
              "2      나를 차버린 스파이  ...    부정\n",
              "4            언힌지드  ...    부정\n",
              "5     죽지않는 인간들의 밤  ...    부정\n",
              "7             안시성  ...    부정\n",
              "8       그것만이 내 세상  ...    부정\n",
              "...           ...  ...   ...\n",
              "4921   나우 유 씨 미 2  ...    부정\n",
              "4923  죽지않는 인간들의 밤  ...    부정\n",
              "4925           담보  ...    부정\n",
              "4931       인사이드 잡  ...    부정\n",
              "4932           뮬란  ...    부정\n",
              "\n",
              "[2003 rows x 4 columns]"
            ]
          },
          "metadata": {
            "tags": []
          },
          "execution_count": 80
        }
      ]
    },
    {
      "cell_type": "markdown",
      "metadata": {
        "id": "b0SNoz-aOIeV"
      },
      "source": [
        "  \n",
        "<br/>  "
      ]
    },
    {
      "cell_type": "markdown",
      "metadata": {
        "id": "6d03gvqw9dHO"
      },
      "source": [
        "### 3.2 학습 및 테스트 데이터 나누기"
      ]
    },
    {
      "cell_type": "code",
      "metadata": {
        "id": "tnEajJtTY5hw",
        "outputId": "7f3fb778-17dc-40a4-9e8f-9d3fd1b0ad51",
        "colab": {
          "base_uri": "https://localhost:8080/",
          "height": 419
        }
      },
      "source": [
        "# 테스트용 데이터\n",
        "movie_test = movie_data_set.iloc[:1000,:]\n",
        "movie_test"
      ],
      "execution_count": null,
      "outputs": [
        {
          "output_type": "execute_result",
          "data": {
            "text/html": [
              "<div>\n",
              "<style scoped>\n",
              "    .dataframe tbody tr th:only-of-type {\n",
              "        vertical-align: middle;\n",
              "    }\n",
              "\n",
              "    .dataframe tbody tr th {\n",
              "        vertical-align: top;\n",
              "    }\n",
              "\n",
              "    .dataframe thead th {\n",
              "        text-align: right;\n",
              "    }\n",
              "</style>\n",
              "<table border=\"1\" class=\"dataframe\">\n",
              "  <thead>\n",
              "    <tr style=\"text-align: right;\">\n",
              "      <th></th>\n",
              "      <th>title</th>\n",
              "      <th>point</th>\n",
              "      <th>review</th>\n",
              "      <th>type</th>\n",
              "    </tr>\n",
              "  </thead>\n",
              "  <tbody>\n",
              "    <tr>\n",
              "      <th>0</th>\n",
              "      <td>만추</td>\n",
              "      <td>10</td>\n",
              "      <td>하..좋다..  역시 지난 영화는 지나고 나이를 먹고 또 봐야 느끼는 감정이 달라지...</td>\n",
              "      <td>긍정</td>\n",
              "    </tr>\n",
              "    <tr>\n",
              "      <th>1</th>\n",
              "      <td>천문: 하늘에 묻는다</td>\n",
              "      <td>10</td>\n",
              "      <td>음...두분에 연기에 가슴이 뛰었습니다.</td>\n",
              "      <td>긍정</td>\n",
              "    </tr>\n",
              "    <tr>\n",
              "      <th>2</th>\n",
              "      <td>나를 차버린 스파이</td>\n",
              "      <td>2</td>\n",
              "      <td>평점이 왜이리 높아개노잼 20분 보다 더는못참고 끕니다</td>\n",
              "      <td>부정</td>\n",
              "    </tr>\n",
              "    <tr>\n",
              "      <th>3</th>\n",
              "      <td>캐리비안의 해적: 죽은 자는 말이 없다</td>\n",
              "      <td>8</td>\n",
              "      <td>집에서 보기 좋은 영화예요~^^</td>\n",
              "      <td>긍정</td>\n",
              "    </tr>\n",
              "    <tr>\n",
              "      <th>4</th>\n",
              "      <td>언힌지드</td>\n",
              "      <td>1</td>\n",
              "      <td>그냥 5만원정도 주면서까지 영화 보라고 해도 시간이 아까울 정도입니다</td>\n",
              "      <td>부정</td>\n",
              "    </tr>\n",
              "    <tr>\n",
              "      <th>...</th>\n",
              "      <td>...</td>\n",
              "      <td>...</td>\n",
              "      <td>...</td>\n",
              "      <td>...</td>\n",
              "    </tr>\n",
              "    <tr>\n",
              "      <th>995</th>\n",
              "      <td>증인</td>\n",
              "      <td>1</td>\n",
              "      <td>candle(apkj****)-좋은 영화? 고소? 어디서 미친 OOO가 멍멍 짖는구...</td>\n",
              "      <td>부정</td>\n",
              "    </tr>\n",
              "    <tr>\n",
              "      <th>996</th>\n",
              "      <td>시</td>\n",
              "      <td>4</td>\n",
              "      <td>너무 루즈하압니드아아</td>\n",
              "      <td>부정</td>\n",
              "    </tr>\n",
              "    <tr>\n",
              "      <th>997</th>\n",
              "      <td>파수꾼</td>\n",
              "      <td>9</td>\n",
              "      <td>가해자의 탈을 쓴 기태가 점차 관계의 어긋남으로 위태로워지는 그 감정선의 변화가 정...</td>\n",
              "      <td>긍정</td>\n",
              "    </tr>\n",
              "    <tr>\n",
              "      <th>998</th>\n",
              "      <td>담보</td>\n",
              "      <td>1</td>\n",
              "      <td>10글자 평도 아까운 진부한 신파</td>\n",
              "      <td>부정</td>\n",
              "    </tr>\n",
              "    <tr>\n",
              "      <th>999</th>\n",
              "      <td>피원에이치 : 새로운 세계의 시작</td>\n",
              "      <td>10</td>\n",
              "      <td>정말 멋진 영화!! 최초라는 것에 의미를 둡니다</td>\n",
              "      <td>긍정</td>\n",
              "    </tr>\n",
              "  </tbody>\n",
              "</table>\n",
              "<p>1000 rows × 4 columns</p>\n",
              "</div>"
            ],
            "text/plain": [
              "                     title  ...  type\n",
              "0                       만추  ...    긍정\n",
              "1              천문: 하늘에 묻는다  ...    긍정\n",
              "2               나를 차버린 스파이  ...    부정\n",
              "3    캐리비안의 해적: 죽은 자는 말이 없다  ...    긍정\n",
              "4                     언힌지드  ...    부정\n",
              "..                     ...  ...   ...\n",
              "995                     증인  ...    부정\n",
              "996                      시  ...    부정\n",
              "997                    파수꾼  ...    긍정\n",
              "998                     담보  ...    부정\n",
              "999     피원에이치 : 새로운 세계의 시작  ...    긍정\n",
              "\n",
              "[1000 rows x 4 columns]"
            ]
          },
          "metadata": {
            "tags": []
          },
          "execution_count": 81
        }
      ]
    },
    {
      "cell_type": "code",
      "metadata": {
        "id": "ZR5vREufZbhO",
        "outputId": "1c4f8e04-e1ac-4192-e206-8e49acba2156",
        "colab": {
          "base_uri": "https://localhost:8080/",
          "height": 419
        }
      },
      "source": [
        "# 훈련용 데이터\n",
        "movie_train = movie_data_set.iloc[1000:,:]\n",
        "movie_train"
      ],
      "execution_count": null,
      "outputs": [
        {
          "output_type": "execute_result",
          "data": {
            "text/html": [
              "<div>\n",
              "<style scoped>\n",
              "    .dataframe tbody tr th:only-of-type {\n",
              "        vertical-align: middle;\n",
              "    }\n",
              "\n",
              "    .dataframe tbody tr th {\n",
              "        vertical-align: top;\n",
              "    }\n",
              "\n",
              "    .dataframe thead th {\n",
              "        text-align: right;\n",
              "    }\n",
              "</style>\n",
              "<table border=\"1\" class=\"dataframe\">\n",
              "  <thead>\n",
              "    <tr style=\"text-align: right;\">\n",
              "      <th></th>\n",
              "      <th>title</th>\n",
              "      <th>point</th>\n",
              "      <th>review</th>\n",
              "      <th>type</th>\n",
              "    </tr>\n",
              "  </thead>\n",
              "  <tbody>\n",
              "    <tr>\n",
              "      <th>1000</th>\n",
              "      <td>너의 이름은.</td>\n",
              "      <td>10</td>\n",
              "      <td>레전드영화 설명이필요없다</td>\n",
              "      <td>긍정</td>\n",
              "    </tr>\n",
              "    <tr>\n",
              "      <th>1001</th>\n",
              "      <td>82년생 김지영</td>\n",
              "      <td>1</td>\n",
              "      <td>절대공감되지않는이야기 판타지적인이야기와 피해의식이라는정신병이만들어낸 결과물 이영화를...</td>\n",
              "      <td>부정</td>\n",
              "    </tr>\n",
              "    <tr>\n",
              "      <th>1002</th>\n",
              "      <td>테넷</td>\n",
              "      <td>10</td>\n",
              "      <td>놀란은 천재다...</td>\n",
              "      <td>긍정</td>\n",
              "    </tr>\n",
              "    <tr>\n",
              "      <th>1003</th>\n",
              "      <td>기생충</td>\n",
              "      <td>1</td>\n",
              "      <td>개인적으로 기대했던것 보단 별로.. 스페인영화 제목이... 암튼 그 영화에서 부분적...</td>\n",
              "      <td>부정</td>\n",
              "    </tr>\n",
              "    <tr>\n",
              "      <th>1004</th>\n",
              "      <td>색, 계</td>\n",
              "      <td>8</td>\n",
              "      <td>연기에서 진심으로 변화하는 과정의 섬세한 묘사. 탕웨이가 본인과 동료들의 목숨까지 ...</td>\n",
              "      <td>긍정</td>\n",
              "    </tr>\n",
              "    <tr>\n",
              "      <th>...</th>\n",
              "      <td>...</td>\n",
              "      <td>...</td>\n",
              "      <td>...</td>\n",
              "      <td>...</td>\n",
              "    </tr>\n",
              "    <tr>\n",
              "      <th>4930</th>\n",
              "      <td>링컨 차를 타는 변호사</td>\n",
              "      <td>8</td>\n",
              "      <td>미국식 쿨함이 그런 것인가, 다들 참 복잡한 세상 단순하게 사는 것 같아 부럽기도 ...</td>\n",
              "      <td>긍정</td>\n",
              "    </tr>\n",
              "    <tr>\n",
              "      <th>4931</th>\n",
              "      <td>인사이드 잡</td>\n",
              "      <td>1</td>\n",
              "      <td>재미도 없지만 볼 가치도 없는 다큐.</td>\n",
              "      <td>부정</td>\n",
              "    </tr>\n",
              "    <tr>\n",
              "      <th>4932</th>\n",
              "      <td>뮬란</td>\n",
              "      <td>1</td>\n",
              "      <td>뮬란 본연의 매력은 다버리고 무협 판타지로 만들어버림</td>\n",
              "      <td>부정</td>\n",
              "    </tr>\n",
              "    <tr>\n",
              "      <th>4933</th>\n",
              "      <td>패스트 &amp; 퓨리어스 - 도쿄 드리프트</td>\n",
              "      <td>9</td>\n",
              "      <td>드리프트 액션 진짜 볼만함</td>\n",
              "      <td>긍정</td>\n",
              "    </tr>\n",
              "    <tr>\n",
              "      <th>4934</th>\n",
              "      <td>애프터: 그 후</td>\n",
              "      <td>8</td>\n",
              "      <td>확실히 전편보단 스토리가 나아서 보는맛이 있어요 이 영화의 본질은 비주얼이라서 ㅋㅋ...</td>\n",
              "      <td>긍정</td>\n",
              "    </tr>\n",
              "  </tbody>\n",
              "</table>\n",
              "<p>3935 rows × 4 columns</p>\n",
              "</div>"
            ],
            "text/plain": [
              "                     title  ...  type\n",
              "1000               너의 이름은.  ...    긍정\n",
              "1001              82년생 김지영  ...    부정\n",
              "1002                    테넷  ...    긍정\n",
              "1003                   기생충  ...    부정\n",
              "1004                  색, 계  ...    긍정\n",
              "...                    ...  ...   ...\n",
              "4930          링컨 차를 타는 변호사  ...    긍정\n",
              "4931                인사이드 잡  ...    부정\n",
              "4932                    뮬란  ...    부정\n",
              "4933  패스트 & 퓨리어스 - 도쿄 드리프트  ...    긍정\n",
              "4934              애프터: 그 후  ...    긍정\n",
              "\n",
              "[3935 rows x 4 columns]"
            ]
          },
          "metadata": {
            "tags": []
          },
          "execution_count": 82
        }
      ]
    },
    {
      "cell_type": "markdown",
      "metadata": {
        "id": "04DwuRroOGZY"
      },
      "source": [
        "  \n",
        "<br/>  "
      ]
    },
    {
      "cell_type": "markdown",
      "metadata": {
        "id": "duiDbJF6Cez4"
      },
      "source": [
        "## 4. 나이브베이즈 실행\n",
        "---"
      ]
    },
    {
      "cell_type": "markdown",
      "metadata": {
        "id": "BDNmlUG5Edzd"
      },
      "source": [
        "### 4.1 패키지 설치 및 import"
      ]
    },
    {
      "cell_type": "code",
      "metadata": {
        "id": "lqyoEs9M4EXj"
      },
      "source": [
        "from nltk.tokenize import word_tokenize\n",
        "import nltk\n",
        "nltk.download(\"all\")"
      ],
      "execution_count": null,
      "outputs": []
    },
    {
      "cell_type": "code",
      "metadata": {
        "id": "SHn1PQoc4Yxg"
      },
      "source": [
        "!pip install konlpy"
      ],
      "execution_count": null,
      "outputs": []
    },
    {
      "cell_type": "markdown",
      "metadata": {
        "id": "jzKBip_qOKKi"
      },
      "source": [
        "  \n",
        "<br/>  "
      ]
    },
    {
      "cell_type": "markdown",
      "metadata": {
        "id": "k8-Ltyq1El5s"
      },
      "source": [
        "### 4.2 학습 데이터 토큰화 및 나이브베이즈 실행"
      ]
    },
    {
      "cell_type": "code",
      "metadata": {
        "id": "fNQ_alDP3uwP",
        "outputId": "20310442-fefa-40a5-8373-1f75ba8e3385",
        "colab": {
          "base_uri": "https://localhost:8080/",
          "height": 226
        }
      },
      "source": [
        "from konlpy.tag import Okt\n",
        "pos_tagger = Okt()\n",
        "\n",
        "train_data = movie_train[['review','type']].values.tolist()\n",
        "\n",
        "def tokenize(doc):\n",
        "  return ['/'.join(i) for i in pos_tagger.pos(doc)]\n",
        "\n",
        "train_doc = [(tokenize(i[0]),i[1]) for i in train_data]\n",
        "tokens = [j for i in train_doc for j in i[0]]\n",
        "\n",
        "def term_exists(doc):\n",
        "  return {word : (word in set(doc)) for word in tokens}\n",
        "\n",
        "x_train = [(term_exists(d), c) for d, c in train_doc]\n",
        "\n",
        "classifier = nltk.NaiveBayesClassifier.train(x_train)\n",
        "classifier.show_most_informative_features()"
      ],
      "execution_count": null,
      "outputs": [
        {
          "output_type": "stream",
          "text": [
            "Most Informative Features\n",
            "           아깝다/Adjective = True               부정 : 긍정     =     27.7 : 1.0\n",
            "              뭔/Modifier = True               부정 : 긍정     =     22.3 : 1.0\n",
            "                쓰레기/Noun = True               부정 : 긍정     =     20.4 : 1.0\n",
            "                 가슴/Noun = True               긍정 : 부정     =     17.6 : 1.0\n",
            "                봤어요/Verb = True               긍정 : 부정     =     16.7 : 1.0\n",
            "          지루하고/Adjective = True               부정 : 긍정     =     16.2 : 1.0\n",
            "                마세요/Verb = True               부정 : 긍정     =     15.5 : 1.0\n",
            "            안됨/Adjective = True               부정 : 긍정     =     15.2 : 1.0\n",
            "                 성도/Noun = True               부정 : 긍정     =     14.1 : 1.0\n",
            "                 노잼/Noun = True               부정 : 긍정     =     13.6 : 1.0\n"
          ],
          "name": "stdout"
        }
      ]
    },
    {
      "cell_type": "markdown",
      "metadata": {
        "id": "RgyKfzbDOLWo"
      },
      "source": [
        "  \n",
        "<br/>  "
      ]
    },
    {
      "cell_type": "markdown",
      "metadata": {
        "id": "hAtWtbpTEtrn"
      },
      "source": [
        "### 4.3 텍스트 분류 확인\n",
        "- 데이터셋에 없는 텍스트 입력"
      ]
    },
    {
      "cell_type": "code",
      "metadata": {
        "id": "YiSY3NId38Xm",
        "outputId": "8c36508f-8250-4267-c1e8-f879cc93489f",
        "colab": {
          "base_uri": "https://localhost:8080/",
          "height": 36
        }
      },
      "source": [
        "test = [('어린 승이 연기한 배우 너무 귀엽더라 ㅎㅎ 가족들과 보기에 딱 좋은 힐링무비~~')]\n",
        "test_doc = tokenize(test[0])\n",
        "\n",
        "test_f = {word:(word in tokens) for word in test_doc}\n",
        "classifier.classify(test_f)"
      ],
      "execution_count": null,
      "outputs": [
        {
          "output_type": "execute_result",
          "data": {
            "application/vnd.google.colaboratory.intrinsic+json": {
              "type": "string"
            },
            "text/plain": [
              "'긍정'"
            ]
          },
          "metadata": {
            "tags": []
          },
          "execution_count": 85
        }
      ]
    },
    {
      "cell_type": "code",
      "metadata": {
        "id": "-JIR1De_4606",
        "outputId": "1baa20f1-f494-433e-cf91-2dfe1486ad86",
        "colab": {
          "base_uri": "https://localhost:8080/",
          "height": 36
        }
      },
      "source": [
        "test = [('좋은 배우 써 놓고 내용은 정말 하타치입니다..웃음 포인트 감동 포인트 하나 없습니다')]\n",
        "test_doc = tokenize(test[0])\n",
        "\n",
        "test_f = {word:(word in tokens) for word in test_doc}\n",
        "classifier.classify(test_f)"
      ],
      "execution_count": null,
      "outputs": [
        {
          "output_type": "execute_result",
          "data": {
            "application/vnd.google.colaboratory.intrinsic+json": {
              "type": "string"
            },
            "text/plain": [
              "'부정'"
            ]
          },
          "metadata": {
            "tags": []
          },
          "execution_count": 86
        }
      ]
    },
    {
      "cell_type": "code",
      "metadata": {
        "id": "bnn1uVwl7GLg",
        "outputId": "639aa74c-1b55-4cb7-8988-25ee6e7b50ba",
        "colab": {
          "base_uri": "https://localhost:8080/",
          "height": 36
        }
      },
      "source": [
        "test = [('곽도원 때문에 예매해서봣는데,,그냥 유치뽕짝,,10대들이나좋아할듯,, 내가본영화중 시간버린 기억에남을작품')]\n",
        "test_doc = tokenize(test[0])\n",
        "\n",
        "test_f = {word:(word in tokens) for word in test_doc}\n",
        "classifier.classify(test_f)"
      ],
      "execution_count": null,
      "outputs": [
        {
          "output_type": "execute_result",
          "data": {
            "application/vnd.google.colaboratory.intrinsic+json": {
              "type": "string"
            },
            "text/plain": [
              "'부정'"
            ]
          },
          "metadata": {
            "tags": []
          },
          "execution_count": 87
        }
      ]
    },
    {
      "cell_type": "code",
      "metadata": {
        "id": "jJiikF_E7KkG",
        "outputId": "7d61e107-19a6-422e-d18f-bac4d94e1da7",
        "colab": {
          "base_uri": "https://localhost:8080/",
          "height": 36
        }
      },
      "source": [
        "test = [('오드리햅번 넘 사랑스럽고 아름다움~♡영화에 나오는 명소들도 하나하나씩 다시금 추억이 떠오르고 보는 내내 설레이는 영화')]\n",
        "test_doc = tokenize(test[0])\n",
        "\n",
        "test_f = {word:(word in tokens) for word in test_doc}\n",
        "classifier.classify(test_f)"
      ],
      "execution_count": null,
      "outputs": [
        {
          "output_type": "execute_result",
          "data": {
            "application/vnd.google.colaboratory.intrinsic+json": {
              "type": "string"
            },
            "text/plain": [
              "'긍정'"
            ]
          },
          "metadata": {
            "tags": []
          },
          "execution_count": 88
        }
      ]
    },
    {
      "cell_type": "markdown",
      "metadata": {
        "id": "P4ZcAsPROMd8"
      },
      "source": [
        "  \n",
        "<br/>  "
      ]
    },
    {
      "cell_type": "markdown",
      "metadata": {
        "id": "sUd_tU6OE9Pk"
      },
      "source": [
        "### 4.3 테스트 데이터 분류"
      ]
    },
    {
      "cell_type": "code",
      "metadata": {
        "id": "fNQjyF2lafwH"
      },
      "source": [
        "test_result = []\n",
        "\n",
        "for i in movie_test.review:\n",
        "  test = [(i)]\n",
        "  test_doc = tokenize(test[0])\n",
        "  test_f = {word:(word in tokens) for word in test_doc}\n",
        "  result = classifier.classify(test_f)\n",
        "  test_result.append(result)"
      ],
      "execution_count": null,
      "outputs": []
    },
    {
      "cell_type": "markdown",
      "metadata": {
        "id": "FAIin6W3ONVT"
      },
      "source": [
        "  \n",
        "<br/>  "
      ]
    },
    {
      "cell_type": "markdown",
      "metadata": {
        "id": "QefpHYJoFI14"
      },
      "source": [
        "## 5. 혼동행렬 조회\n",
        "---\n",
        "- `test_actual` : 테스트 데이터의 실제 `type`  \n",
        "`test_predict` : 모델이 예측한 테스트 데이터의 `type`\n",
        "- 정확도 94%로 유의하게 도출"
      ]
    },
    {
      "cell_type": "code",
      "metadata": {
        "id": "fma7WUm0ai-p",
        "outputId": "4f64d405-8060-4ad7-e1fe-119c56d56e94",
        "colab": {
          "base_uri": "https://localhost:8080/",
          "height": 142
        }
      },
      "source": [
        "test_actual = pd.Series(movie_test.type, name = 'actual')\n",
        "test_predict = pd.Series(test_result, name = 'predict')\n",
        "\n",
        "pd.crosstab(test_actual, test_predict)"
      ],
      "execution_count": null,
      "outputs": [
        {
          "output_type": "execute_result",
          "data": {
            "text/html": [
              "<div>\n",
              "<style scoped>\n",
              "    .dataframe tbody tr th:only-of-type {\n",
              "        vertical-align: middle;\n",
              "    }\n",
              "\n",
              "    .dataframe tbody tr th {\n",
              "        vertical-align: top;\n",
              "    }\n",
              "\n",
              "    .dataframe thead th {\n",
              "        text-align: right;\n",
              "    }\n",
              "</style>\n",
              "<table border=\"1\" class=\"dataframe\">\n",
              "  <thead>\n",
              "    <tr style=\"text-align: right;\">\n",
              "      <th>predict</th>\n",
              "      <th>긍정</th>\n",
              "      <th>부정</th>\n",
              "    </tr>\n",
              "    <tr>\n",
              "      <th>actual</th>\n",
              "      <th></th>\n",
              "      <th></th>\n",
              "    </tr>\n",
              "  </thead>\n",
              "  <tbody>\n",
              "    <tr>\n",
              "      <th>긍정</th>\n",
              "      <td>509</td>\n",
              "      <td>20</td>\n",
              "    </tr>\n",
              "    <tr>\n",
              "      <th>부정</th>\n",
              "      <td>44</td>\n",
              "      <td>427</td>\n",
              "    </tr>\n",
              "  </tbody>\n",
              "</table>\n",
              "</div>"
            ],
            "text/plain": [
              "predict   긍정   부정\n",
              "actual           \n",
              "긍정       509   20\n",
              "부정        44  427"
            ]
          },
          "metadata": {
            "tags": []
          },
          "execution_count": 95
        }
      ]
    },
    {
      "cell_type": "code",
      "metadata": {
        "id": "1r-aTBtRamIe"
      },
      "source": [
        "from sklearn.metrics import confusion_matrix, classification_report"
      ],
      "execution_count": null,
      "outputs": []
    },
    {
      "cell_type": "code",
      "metadata": {
        "id": "d0q72-21anfn",
        "outputId": "6ed3dbe7-59c5-477e-fcee-faea468ec156",
        "colab": {
          "base_uri": "https://localhost:8080/",
          "height": 55
        }
      },
      "source": [
        "print(confusion_matrix(test_actual, test_predict))"
      ],
      "execution_count": null,
      "outputs": [
        {
          "output_type": "stream",
          "text": [
            "[[509  20]\n",
            " [ 44 427]]\n"
          ],
          "name": "stdout"
        }
      ]
    },
    {
      "cell_type": "code",
      "metadata": {
        "id": "Sq_E06YKaoDn",
        "outputId": "9c2407b4-194f-4194-a368-f99268365848",
        "colab": {
          "base_uri": "https://localhost:8080/",
          "height": 188
        }
      },
      "source": [
        "print(classification_report(test_actual, test_predict))"
      ],
      "execution_count": null,
      "outputs": [
        {
          "output_type": "stream",
          "text": [
            "              precision    recall  f1-score   support\n",
            "\n",
            "          긍정       0.92      0.96      0.94       529\n",
            "          부정       0.96      0.91      0.93       471\n",
            "\n",
            "    accuracy                           0.94      1000\n",
            "   macro avg       0.94      0.93      0.94      1000\n",
            "weighted avg       0.94      0.94      0.94      1000\n",
            "\n"
          ],
          "name": "stdout"
        }
      ]
    },
    {
      "cell_type": "markdown",
      "metadata": {
        "id": "Ou0PYWrvOOlk"
      },
      "source": [
        "  \n",
        "<br/>  "
      ]
    },
    {
      "cell_type": "markdown",
      "metadata": {
        "id": "cWgwy4ODHEe3"
      },
      "source": [
        "## 6. 일치하지 않는 데이터 확인\n",
        "---\n",
        "- 오탈자가 있거나 비표준어, 초성 등을 사용한 경우 / 비유적 표현을 사용한 경우 등으로 확인\n",
        "- 정제 작업을 보다 치밀하게 할 경우 결과가 향상될 것으로 예상됨."
      ]
    },
    {
      "cell_type": "code",
      "metadata": {
        "id": "XX8-r2_LHf8U",
        "outputId": "93ac1891-f9c7-4d38-f9b2-1eb1fe13586e",
        "colab": {
          "base_uri": "https://localhost:8080/",
          "height": 419
        }
      },
      "source": [
        "movie_test[movie_test.type != test_predict]"
      ],
      "execution_count": null,
      "outputs": [
        {
          "output_type": "execute_result",
          "data": {
            "text/html": [
              "<div>\n",
              "<style scoped>\n",
              "    .dataframe tbody tr th:only-of-type {\n",
              "        vertical-align: middle;\n",
              "    }\n",
              "\n",
              "    .dataframe tbody tr th {\n",
              "        vertical-align: top;\n",
              "    }\n",
              "\n",
              "    .dataframe thead th {\n",
              "        text-align: right;\n",
              "    }\n",
              "</style>\n",
              "<table border=\"1\" class=\"dataframe\">\n",
              "  <thead>\n",
              "    <tr style=\"text-align: right;\">\n",
              "      <th></th>\n",
              "      <th>title</th>\n",
              "      <th>point</th>\n",
              "      <th>review</th>\n",
              "      <th>type</th>\n",
              "    </tr>\n",
              "  </thead>\n",
              "  <tbody>\n",
              "    <tr>\n",
              "      <th>15</th>\n",
              "      <td>국제수사</td>\n",
              "      <td>6</td>\n",
              "      <td>좀더 장황하고 긴당감잇게 연출되럿스면</td>\n",
              "      <td>부정</td>\n",
              "    </tr>\n",
              "    <tr>\n",
              "      <th>30</th>\n",
              "      <td>브리짓 존스의 일기 - 열정과 애정</td>\n",
              "      <td>4</td>\n",
              "      <td>1탄을 너무 재밌게봤는데 그렇게 매력있던 브리짓을 이렇게 매력없게 만들수있나 싶다....</td>\n",
              "      <td>부정</td>\n",
              "    </tr>\n",
              "    <tr>\n",
              "      <th>32</th>\n",
              "      <td>그대, 고맙소 : 김호중 생애 첫 팬미팅 무비</td>\n",
              "      <td>1</td>\n",
              "      <td>ㄴㅈ이네요ㄴㅈ이에요</td>\n",
              "      <td>부정</td>\n",
              "    </tr>\n",
              "    <tr>\n",
              "      <th>34</th>\n",
              "      <td>애프터: 그 후</td>\n",
              "      <td>4</td>\n",
              "      <td>기대가 컸나봐요 ...</td>\n",
              "      <td>부정</td>\n",
              "    </tr>\n",
              "    <tr>\n",
              "      <th>66</th>\n",
              "      <td>해수의 아이</td>\n",
              "      <td>1</td>\n",
              "      <td>2020년에 개봉한 영화가 맞는지 제가 지금 몇년도에 살고있는지 날짜의 소중함을 알...</td>\n",
              "      <td>부정</td>\n",
              "    </tr>\n",
              "    <tr>\n",
              "      <th>...</th>\n",
              "      <td>...</td>\n",
              "      <td>...</td>\n",
              "      <td>...</td>\n",
              "      <td>...</td>\n",
              "    </tr>\n",
              "    <tr>\n",
              "      <th>986</th>\n",
              "      <td>그린랜드</td>\n",
              "      <td>10</td>\n",
              "      <td>혜성 충돌 재난영화는 처음이라 기대하지 않았는데  영화 2010 스케일과 맞먹는 영...</td>\n",
              "      <td>긍정</td>\n",
              "    </tr>\n",
              "    <tr>\n",
              "      <th>991</th>\n",
              "      <td>마마</td>\n",
              "      <td>8</td>\n",
              "      <td>빗나간 모성애..그래도 나는 나름 재밌게 봤다. 주인공들 연기도 쩔었고 귀신캐릭터도...</td>\n",
              "      <td>긍정</td>\n",
              "    </tr>\n",
              "    <tr>\n",
              "      <th>992</th>\n",
              "      <td>용서는 없다</td>\n",
              "      <td>8</td>\n",
              "      <td>근데 국내최고의 부검의가 토막난시체가 서로 다른사람이라는걸 모르나? 우짰든 힘있는위...</td>\n",
              "      <td>긍정</td>\n",
              "    </tr>\n",
              "    <tr>\n",
              "      <th>996</th>\n",
              "      <td>시</td>\n",
              "      <td>4</td>\n",
              "      <td>너무 루즈하압니드아아</td>\n",
              "      <td>부정</td>\n",
              "    </tr>\n",
              "    <tr>\n",
              "      <th>997</th>\n",
              "      <td>파수꾼</td>\n",
              "      <td>9</td>\n",
              "      <td>가해자의 탈을 쓴 기태가 점차 관계의 어긋남으로 위태로워지는 그 감정선의 변화가 정...</td>\n",
              "      <td>긍정</td>\n",
              "    </tr>\n",
              "  </tbody>\n",
              "</table>\n",
              "<p>64 rows × 4 columns</p>\n",
              "</div>"
            ],
            "text/plain": [
              "                         title  ...  type\n",
              "15                        국제수사  ...    부정\n",
              "30         브리짓 존스의 일기 - 열정과 애정  ...    부정\n",
              "32   그대, 고맙소 : 김호중 생애 첫 팬미팅 무비  ...    부정\n",
              "34                    애프터: 그 후  ...    부정\n",
              "66                      해수의 아이  ...    부정\n",
              "..                         ...  ...   ...\n",
              "986                       그린랜드  ...    긍정\n",
              "991                         마마  ...    긍정\n",
              "992                     용서는 없다  ...    긍정\n",
              "996                          시  ...    부정\n",
              "997                        파수꾼  ...    긍정\n",
              "\n",
              "[64 rows x 4 columns]"
            ]
          },
          "metadata": {
            "tags": []
          },
          "execution_count": 98
        }
      ]
    }
  ]
}